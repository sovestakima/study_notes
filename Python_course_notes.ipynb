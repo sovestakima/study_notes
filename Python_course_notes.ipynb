{
 "cells": [
  {
   "cell_type": "markdown",
   "id": "8fe0dd16-c3b1-4949-96b5-281415dddf56",
   "metadata": {},
   "source": [
    "# Python cource - notes"
   ]
  },
  {
   "cell_type": "markdown",
   "id": "a7876cd2-c815-4bc4-aaa6-e09053d18b0c",
   "metadata": {},
   "source": [
    "## Table of content"
   ]
  },
  {
   "cell_type": "markdown",
   "id": "973a1c37-6c7d-4471-9ade-3aa12c60a147",
   "metadata": {},
   "source": [
    "[1. Python Object and Data Structure](#python-object-and-data-structure)<br>\n",
    "[1.1. Data types and variables](#data-types-and-variables)<br>\n",
    "[1.2. Strings](#\"strings\")<br>"
   ]
  },
  {
   "cell_type": "markdown",
   "id": "43256353-a93a-4f87-9999-a5dbd5f60672",
   "metadata": {},
   "source": [
    "# 1. Python Object and Data Structure<a name = \"python-object-and-data-structure\"></a>"
   ]
  },
  {
   "cell_type": "markdown",
   "id": "c8c1387f-332a-4372-bef3-10d1ccb9024d",
   "metadata": {},
   "source": [
    "## 1.1. Data types and variables"
   ]
  },
  {
   "cell_type": "markdown",
   "id": "71950af9-f207-4075-8fcb-c12f1d2c4c3b",
   "metadata": {},
   "source": [
    "**Integer**<br> \n",
    "Int Whole numbers 3, 4, 6000<br>\n",
    "**Floating point** Float Numbers with decimal point 3.14, 5.67<br>\n",
    "**String** Str **Ordered** sequence of characters \"Hello\", \"3000\"<br>\n",
    "Lists Ordered mutable sequence of objects ['GGGG', \"666\", \"Hello\", 3.16] <br>\n",
    "Dictionaries Unordered Key-Value pairs <br>\n",
    "Tuples ordererd immutable sequence of objects (\"Kitchen\", \"555\", 67, 7.8)<br>\n",
    "Set Unordered collection of unique objects {\"a\", \"b\"}<br>\n",
    "Booleans Logical values indicating True or False\n"
   ]
  },
  {
   "cell_type": "markdown",
   "id": "9951f20c-e25e-408f-aa8e-b3df9834dd15",
   "metadata": {},
   "source": [
    "Python uses **Dynamic Typing** meaning that you can reassign variables to different **Data Types**"
   ]
  },
  {
   "cell_type": "code",
   "execution_count": 10,
   "id": "28ad9797-16f5-4e18-8b98-77cef352ded7",
   "metadata": {},
   "outputs": [
    {
     "data": {
      "text/plain": [
       "2"
      ]
     },
     "execution_count": 10,
     "metadata": {},
     "output_type": "execute_result"
    }
   ],
   "source": [
    "# Assign the variable me_dogs with an integer value of 2\n",
    "my_dogs = 2\n",
    "my_dogs"
   ]
  },
  {
   "cell_type": "code",
   "execution_count": 11,
   "id": "7a1cff1b-3c50-4685-bea4-743eee5fed81",
   "metadata": {},
   "outputs": [
    {
     "data": {
      "text/plain": [
       "['Lucky', 'Bob']"
      ]
     },
     "execution_count": 11,
     "metadata": {},
     "output_type": "execute_result"
    }
   ],
   "source": [
    "#Reassign the vatiable my_dogs with a list\n",
    "my_dogs = [\"Lucky\", \"Bob\"]\n",
    "my_dogs"
   ]
  },
  {
   "cell_type": "markdown",
   "id": "e0e23131-2ce1-418b-98d6-50f7eb6c55b9",
   "metadata": {},
   "source": [
    "It's will cause an error in the **Statically-Typed** programming languages"
   ]
  },
  {
   "cell_type": "markdown",
   "id": "249a3565-abfc-42e0-ad67-15763493da0a",
   "metadata": {},
   "source": [
    "## 1.2. Strings <a name = \"srings\"></a>"
   ]
  },
  {
   "cell_type": "markdown",
   "id": "ac769a0b-d9d8-48ab-ab7e-af0333b96cae",
   "metadata": {},
   "source": [
    "### 1.2.1 Basic examples"
   ]
  },
  {
   "cell_type": "code",
   "execution_count": 16,
   "id": "6e0675a8-cc0e-4034-80ff-36f09d3ab8c5",
   "metadata": {},
   "outputs": [
    {
     "data": {
      "text/plain": [
       "('Hello', 'Novosibirsk', \"You'll have a lesson\")"
      ]
     },
     "execution_count": 16,
     "metadata": {},
     "output_type": "execute_result"
    }
   ],
   "source": [
    "# Basic example\n",
    "\"Hello\", 'Novosibirsk', \"You'll have a lesson\""
   ]
  },
  {
   "cell_type": "code",
   "execution_count": 17,
   "id": "83889621-47c4-42db-8812-d8955e5351eb",
   "metadata": {},
   "outputs": [
    {
     "data": {
      "text/plain": [
       "'New York'"
      ]
     },
     "execution_count": 17,
     "metadata": {},
     "output_type": "execute_result"
    }
   ],
   "source": [
    "\"Hello\"\n",
    "\"New York\""
   ]
  },
  {
   "cell_type": "code",
   "execution_count": 20,
   "id": "6aa74799-989d-479a-9aff-22a2b64d1ed4",
   "metadata": {},
   "outputs": [
    {
     "name": "stdout",
     "output_type": "stream",
     "text": [
      "Hello\n",
      "New York\n"
     ]
    }
   ],
   "source": [
    "# Print both rows\n",
    "print(\"Hello\")\n",
    "print(\"New York\")"
   ]
  },
  {
   "cell_type": "code",
   "execution_count": 25,
   "id": "21cd2386-96d4-4b12-8064-ddf21cfa6c33",
   "metadata": {},
   "outputs": [
    {
     "name": "stdout",
     "output_type": "stream",
     "text": [
      "Hello \n",
      "Tbilisi\n"
     ]
    }
   ],
   "source": [
    "# Add a new row\n",
    "print(\"Hello \\nTbilisi\")"
   ]
  },
  {
   "cell_type": "markdown",
   "id": "bedd0c25-09a8-4554-bccd-d3eed7cc53c8",
   "metadata": {},
   "source": [
    "### 1.2.2 Indexing and Slicing"
   ]
  },
  {
   "cell_type": "markdown",
   "id": "91ddef78-4444-45e4-938e-adb59cee005a",
   "metadata": {},
   "source": [
    "Since strings are **ordered sequences** of characters, we can use **indexing** and **slicing** to grab sub-sections of the string, as we know the exact position of each character.<br>\n"
   ]
  },
  {
   "cell_type": "markdown",
   "id": "9a208fd9-a5c0-488b-9113-80d2ffde17d0",
   "metadata": {},
   "source": [
    "**Indexing** allows to grab single caracter from the string"
   ]
  },
  {
   "cell_type": "code",
   "execution_count": 12,
   "id": "16077d11-8c96-4cf6-8f0e-54a20ed07de7",
   "metadata": {},
   "outputs": [
    {
     "data": {
      "text/plain": [
       "'H'"
      ]
     },
     "execution_count": 12,
     "metadata": {},
     "output_type": "execute_result"
    }
   ],
   "source": [
    "q = \"Hello\"\n",
    "q[0]"
   ]
  },
  {
   "cell_type": "code",
   "execution_count": 15,
   "id": "c8b662f6-7090-4e27-96c3-6cf786735c44",
   "metadata": {},
   "outputs": [
    {
     "data": {
      "text/plain": [
       "'o'"
      ]
     },
     "execution_count": 15,
     "metadata": {},
     "output_type": "execute_result"
    }
   ],
   "source": [
    "# Reverse indexing\n",
    "q[-1]"
   ]
  },
  {
   "cell_type": "code",
   "execution_count": 14,
   "id": "71df81b1-bb39-4749-bf09-c5cb638b8764",
   "metadata": {},
   "outputs": [
    {
     "data": {
      "text/plain": [
       "'e'"
      ]
     },
     "execution_count": 14,
     "metadata": {},
     "output_type": "execute_result"
    }
   ],
   "source": [
    "q[1]"
   ]
  },
  {
   "cell_type": "markdown",
   "id": "fa31af6e-3adc-4fca-a29e-6a93d0a850cf",
   "metadata": {},
   "source": [
    "**Slicing** allows to grab subsection of multiple carachers form the string, a **slice** of the string<br>\n",
    "This has the following syntax:\n",
    "**[start:stop:step]** <br>\n",
    "<br>\n",
    "**stop** is a index you are going up to BUT **not include**<br>\n",
    "**step** is a size of jump you take\n"
   ]
  },
  {
   "cell_type": "code",
   "execution_count": 27,
   "id": "93609221-3a4c-4531-b2b3-201475075659",
   "metadata": {},
   "outputs": [
    {
     "data": {
      "text/plain": [
       "'Hello'"
      ]
     },
     "execution_count": 27,
     "metadata": {},
     "output_type": "execute_result"
    }
   ],
   "source": [
    "r = \"Hello\"\n",
    "r"
   ]
  },
  {
   "cell_type": "code",
   "execution_count": 30,
   "id": "7465cca4-9228-4646-b302-4090cdcbf808",
   "metadata": {},
   "outputs": [
    {
     "data": {
      "text/plain": [
       "'llo'"
      ]
     },
     "execution_count": 30,
     "metadata": {},
     "output_type": "execute_result"
    }
   ],
   "source": [
    "# Slicing from the 2nd character (included) to the end of the string\n",
    "r[2:]"
   ]
  },
  {
   "cell_type": "code",
   "execution_count": 29,
   "id": "f75a075a-80dd-4ae1-afe2-c4dfcf00450b",
   "metadata": {},
   "outputs": [
    {
     "data": {
      "text/plain": [
       "'Hel'"
      ]
     },
     "execution_count": 29,
     "metadata": {},
     "output_type": "execute_result"
    }
   ],
   "source": [
    "# Slicing from the beginning to the 3rd character (not included)\n",
    "r[:3]"
   ]
  },
  {
   "cell_type": "code",
   "execution_count": 31,
   "id": "580c7733-3fae-4d6d-bbd8-739ef761f5d1",
   "metadata": {},
   "outputs": [
    {
     "data": {
      "text/plain": [
       "'ell'"
      ]
     },
     "execution_count": 31,
     "metadata": {},
     "output_type": "execute_result"
    }
   ],
   "source": [
    "r[1:4]"
   ]
  },
  {
   "cell_type": "code",
   "execution_count": 33,
   "id": "78471ea4-611f-478b-bb0b-9f139e41e0a6",
   "metadata": {},
   "outputs": [
    {
     "data": {
      "text/plain": [
       "'Hlo'"
      ]
     },
     "execution_count": 33,
     "metadata": {},
     "output_type": "execute_result"
    }
   ],
   "source": [
    "# Slicing every second character from the string from the beginnign:\n",
    "r[::2]"
   ]
  },
  {
   "cell_type": "code",
   "execution_count": 34,
   "id": "c6e277ed-a461-4668-ad4d-b7d0a327a33e",
   "metadata": {},
   "outputs": [
    {
     "data": {
      "text/plain": [
       "'olleH'"
      ]
     },
     "execution_count": 34,
     "metadata": {},
     "output_type": "execute_result"
    }
   ],
   "source": [
    "#Reverse the whole string backwards\n",
    "r[::-1]"
   ]
  },
  {
   "cell_type": "markdown",
   "id": "fa31b47e-9174-446d-b99a-405b22fa4a67",
   "metadata": {},
   "source": [
    "### 1.2.3 Immutability of strings"
   ]
  },
  {
   "cell_type": "code",
   "execution_count": 42,
   "id": "e39fe69d-f1e2-4959-ace3-1e192fd80eb8",
   "metadata": {},
   "outputs": [],
   "source": [
    "name = 'Pam'"
   ]
  },
  {
   "cell_type": "code",
   "execution_count": 43,
   "id": "932ac4b4-d251-4238-9a07-e07f29c89a3e",
   "metadata": {},
   "outputs": [
    {
     "ename": "TypeError",
     "evalue": "'str' object does not support item assignment",
     "output_type": "error",
     "traceback": [
      "\u001b[1;31m---------------------------------------------------------------------------\u001b[0m",
      "\u001b[1;31mTypeError\u001b[0m                                 Traceback (most recent call last)",
      "\u001b[1;32m<ipython-input-43-76c074ce21c7>\u001b[0m in \u001b[0;36m<module>\u001b[1;34m\u001b[0m\n\u001b[0;32m      1\u001b[0m \u001b[1;31m# Cannot change the part of the string, like this:\u001b[0m\u001b[1;33m\u001b[0m\u001b[1;33m\u001b[0m\u001b[1;33m\u001b[0m\u001b[0m\n\u001b[1;32m----> 2\u001b[1;33m \u001b[0mname\u001b[0m\u001b[1;33m[\u001b[0m\u001b[1;36m0\u001b[0m\u001b[1;33m]\u001b[0m \u001b[1;33m=\u001b[0m \u001b[1;34m\"S\"\u001b[0m\u001b[1;33m\u001b[0m\u001b[1;33m\u001b[0m\u001b[0m\n\u001b[0m",
      "\u001b[1;31mTypeError\u001b[0m: 'str' object does not support item assignment"
     ]
    }
   ],
   "source": [
    "# Cannot change the part of the string, like this:\n",
    "name[0] = \"S\""
   ]
  },
  {
   "cell_type": "code",
   "execution_count": 45,
   "id": "2641b3df-0bc3-4ad2-b5c9-234ab157cf12",
   "metadata": {},
   "outputs": [
    {
     "data": {
      "text/plain": [
       "'Sam'"
      ]
     },
     "execution_count": 45,
     "metadata": {},
     "output_type": "execute_result"
    }
   ],
   "source": [
    "# But we can concatenate strings\n",
    "\"S\" + name[1:]"
   ]
  },
  {
   "cell_type": "code",
   "execution_count": 46,
   "id": "dcf187b6-8c6d-487f-b468-056caba306a4",
   "metadata": {},
   "outputs": [],
   "source": [
    "# Multiply the string\n",
    "letter = \"z\""
   ]
  },
  {
   "cell_type": "code",
   "execution_count": 48,
   "id": "a34cbc2e-ba79-4ae2-9f3f-52d5588d6bc2",
   "metadata": {},
   "outputs": [
    {
     "data": {
      "text/plain": [
       "'zzzzzzzzzz'"
      ]
     },
     "execution_count": 48,
     "metadata": {},
     "output_type": "execute_result"
    }
   ],
   "source": [
    "letter * 10"
   ]
  },
  {
   "cell_type": "code",
   "execution_count": 50,
   "id": "cb0e6596-3fd8-4c75-b84c-ae9f5cfa9d93",
   "metadata": {},
   "outputs": [
    {
     "name": "stdout",
     "output_type": "stream",
     "text": [
      "5\n",
      "23\n"
     ]
    }
   ],
   "source": [
    "# Concatenation with stings and numbers\n",
    "print(2 + 3)\n",
    "print(\"2\"+\"3\")"
   ]
  },
  {
   "cell_type": "markdown",
   "id": "b45ec49c-0b32-4046-a349-a3acac06f11a",
   "metadata": {},
   "source": [
    "### 1.2.4 Useful string methods"
   ]
  },
  {
   "cell_type": "markdown",
   "id": "f07a9015-364c-4dec-aa07-2e169c65e1d3",
   "metadata": {},
   "source": [
    "To call all avaliable methods type a dot and press Tab"
   ]
  },
  {
   "cell_type": "markdown",
   "id": "07a4a744-3fba-4ce4-8c47-d2361a7d2adc",
   "metadata": {},
   "source": [
    "**Methods are not \"in a place\". In order to change the string you need to reassign**"
   ]
  },
  {
   "cell_type": "code",
   "execution_count": 52,
   "id": "e7e4dca9-cf0c-49c5-9ccd-386ce68f8630",
   "metadata": {},
   "outputs": [],
   "source": [
    "name = \"Pamela\""
   ]
  },
  {
   "cell_type": "code",
   "execution_count": 53,
   "id": "c9176935-fc89-4335-8260-e6949ecac12e",
   "metadata": {},
   "outputs": [
    {
     "data": {
      "text/plain": [
       "'PAMELA'"
      ]
     },
     "execution_count": 53,
     "metadata": {},
     "output_type": "execute_result"
    }
   ],
   "source": [
    "name.upper()"
   ]
  },
  {
   "cell_type": "markdown",
   "id": "82040604-f350-4c66-bf8a-24b14654be49",
   "metadata": {},
   "source": [
    "# Useful materials"
   ]
  },
  {
   "cell_type": "markdown",
   "id": "95d1737f-07eb-4f11-83c4-1a2a60157a53",
   "metadata": {},
   "source": [
    "PEP8 https://peps.python.org/pep-0008/"
   ]
  },
  {
   "cell_type": "code",
   "execution_count": null,
   "id": "7563193e-5dad-4d73-96e3-5856dacded76",
   "metadata": {},
   "outputs": [],
   "source": []
  }
 ],
 "metadata": {
  "kernelspec": {
   "display_name": "Python 3",
   "language": "python",
   "name": "python3"
  },
  "language_info": {
   "codemirror_mode": {
    "name": "ipython",
    "version": 3
   },
   "file_extension": ".py",
   "mimetype": "text/x-python",
   "name": "python",
   "nbconvert_exporter": "python",
   "pygments_lexer": "ipython3",
   "version": "3.7.6"
  }
 },
 "nbformat": 4,
 "nbformat_minor": 5
}
